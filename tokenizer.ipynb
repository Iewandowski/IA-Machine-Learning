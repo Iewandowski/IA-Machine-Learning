{
  "nbformat": 4,
  "nbformat_minor": 0,
  "metadata": {
    "colab": {
      "name": "tokenizer.ipynb",
      "provenance": [],
      "authorship_tag": "ABX9TyM+ikVXnrRS4YoqMEdPjexn",
      "include_colab_link": true
    },
    "kernelspec": {
      "name": "python3",
      "display_name": "Python 3"
    },
    "language_info": {
      "name": "python"
    }
  },
  "cells": [
    {
      "cell_type": "markdown",
      "metadata": {
        "id": "view-in-github",
        "colab_type": "text"
      },
      "source": [
        "<a href=\"https://colab.research.google.com/github/Iewandowski/IA-Machine-Learning/blob/main/tokenizer.ipynb\" target=\"_parent\"><img src=\"https://colab.research.google.com/assets/colab-badge.svg\" alt=\"Open In Colab\"/></a>"
      ]
    },
    {
      "cell_type": "code",
      "execution_count": 31,
      "metadata": {
        "colab": {
          "base_uri": "https://localhost:8080/"
        },
        "id": "OpMWhUDuDy1P",
        "outputId": "8644139b-7929-4045-fa9c-eb768be96923"
      },
      "outputs": [
        {
          "output_type": "stream",
          "name": "stdout",
          "text": [
            "a:=(aux-2)*200/19\n",
            "achou: (\n",
            "achou: -\n",
            "achou: )\n",
            "achou: *\n",
            "achou: /\n"
          ]
        }
      ],
      "source": [
        "tokens = {1: [\"IDENT\", \"variavel\"],\n",
        "          2: [\"INT_LIT\", \"inteiro\"],\n",
        "          3: [\"LPAREN\", \"(\"],\n",
        "          4: [\"RPAREN\", \")\"], \n",
        "          5: [\"ADD_OP\", \"+\"], \n",
        "          6: [\"SUB_OP\", \"-\"],\n",
        "          7: [\"MUL_OP\", \"*\"], \n",
        "          8: [\"DIV_OP\", \"/\"],\n",
        "          9: [\"GT_OP\", \">\"],\n",
        "          10: [\"LT_OP\", \"<\"],\n",
        "          11: [\"EQ_OP\", \"==\"],\n",
        "          12: [\"ASSIGN_OP\", \":=\"]\n",
        "          }\n",
        "\n",
        "with open('line.txt') as file:\n",
        "  for linha in file:\n",
        "    txt = linha\n",
        "  texto = txt.replace(\" \", \"\")\n",
        "  print(texto)\n",
        "\n",
        "for i in texto:\n",
        "  for token in tokens.values():\n",
        "    if i == token[1]:\n",
        "      print(\"achou: \" + token[1])\n"
      ]
    }
  ]
}