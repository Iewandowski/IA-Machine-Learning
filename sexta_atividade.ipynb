{
  "nbformat": 4,
  "nbformat_minor": 0,
  "metadata": {
    "colab": {
      "name": "sexta-atividade.ipynb",
      "provenance": [],
      "authorship_tag": "ABX9TyOeEzxP7EXYu6ZmnN38gfnd",
      "include_colab_link": true
    },
    "kernelspec": {
      "name": "python3",
      "display_name": "Python 3"
    },
    "language_info": {
      "name": "python"
    }
  },
  "cells": [
    {
      "cell_type": "markdown",
      "metadata": {
        "id": "view-in-github",
        "colab_type": "text"
      },
      "source": [
        "<a href=\"https://colab.research.google.com/github/Iewandowski/IA-Machine-Learning/blob/main/sexta_atividade.ipynb\" target=\"_parent\"><img src=\"https://colab.research.google.com/assets/colab-badge.svg\" alt=\"Open In Colab\"/></a>"
      ]
    },
    {
      "cell_type": "markdown",
      "source": [
        "#Exercicio\n",
        "Crie um arquivo .py com duas funções\n",
        "- Função para ler um string (recebe como parâmetro uma mensagem e retorna o que o usuário digitou)\n",
        "- Função para ler um número float (recebe como parâmetro uma mensagem e retorna o que o usuário digitou)"
      ],
      "metadata": {
        "id": "DiEobAEdgQME"
      }
    },
    {
      "cell_type": "code",
      "execution_count": null,
      "metadata": {
        "id": "bPU1e2T8Z_Rn"
      },
      "outputs": [],
      "source": [
        "import modulo as md"
      ]
    },
    {
      "cell_type": "code",
      "source": [
        "texto = md.ler_string('Escreva uma mensagem: ')\n",
        "print(texto)"
      ],
      "metadata": {
        "colab": {
          "base_uri": "https://localhost:8080/"
        },
        "id": "2ZZl0FaKged_",
        "outputId": "73fabd7d-f57e-4a0e-d07d-800be9b48edb"
      },
      "execution_count": null,
      "outputs": [
        {
          "output_type": "stream",
          "name": "stdout",
          "text": [
            "Escreva uma mensagem: a\n",
            "a\n"
          ]
        }
      ]
    },
    {
      "cell_type": "code",
      "source": [
        "numero = md.ler_float('Digite o valor float: ')"
      ],
      "metadata": {
        "id": "Eq78moGZhWrG"
      },
      "execution_count": null,
      "outputs": []
    }
  ]
}