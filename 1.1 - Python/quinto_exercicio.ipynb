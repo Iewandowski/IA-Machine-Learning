{
  "nbformat": 4,
  "nbformat_minor": 0,
  "metadata": {
    "colab": {
      "name": "quinto-exercicio.ipynb",
      "provenance": [],
      "toc_visible": true,
      "authorship_tag": "ABX9TyMSUJNhB3lzmJ5RZTBKF03u",
      "include_colab_link": true
    },
    "kernelspec": {
      "name": "python3",
      "display_name": "Python 3"
    },
    "language_info": {
      "name": "python"
    }
  },
  "cells": [
    {
      "cell_type": "markdown",
      "metadata": {
        "id": "view-in-github",
        "colab_type": "text"
      },
      "source": [
        "<a href=\"https://colab.research.google.com/github/Iewandowski/IA-Machine-Learning/blob/main/quinto_exercicio.ipynb\" target=\"_parent\"><img src=\"https://colab.research.google.com/assets/colab-badge.svg\" alt=\"Open In Colab\"/></a>"
      ]
    },
    {
      "cell_type": "markdown",
      "source": [
        "# Atividade 01:\n",
        "Ler uma temperatura em graus Celsius e apresentá-la convertida em graus Fahrenheit. A fórmula de conversão é F = (9 * C + 160) / 5, na qual F é a temperatura em Fahrenheit e C é a temperatura em graus Celsius\n",
        "- Função para ler e retorna o valor da temperatura (não recebe parâmetro)\n",
        "- Função para fazer o cálculo (recebe como parâmetro a temperatura em graus Celsius)\n",
        "- Função para mostrar o resultado, recebendo como parâmetro o valor e fazendo a impressão"
      ],
      "metadata": {
        "id": "KaRRH0Jst9Pf"
      }
    },
    {
      "cell_type": "code",
      "source": [
        "def leitura():\n",
        "  temperatura = float(input('Digite a temperatura em graus Celsius: '))\n",
        "  return temperatura"
      ],
      "metadata": {
        "id": "_888zUFhwEX6"
      },
      "execution_count": 12,
      "outputs": []
    },
    {
      "cell_type": "code",
      "execution_count": 13,
      "metadata": {
        "id": "tsDRzILNt3jV"
      },
      "outputs": [],
      "source": [
        "def conversao(celcius):\n",
        "  F = (9 * celcius + 160) / 5\n",
        "  return F"
      ]
    },
    {
      "cell_type": "code",
      "source": [
        "def resultado(F):\n",
        "  return f'A temperatura é de {F}°F'"
      ],
      "metadata": {
        "id": "QJ2BkKEYwRnM"
      },
      "execution_count": 14,
      "outputs": []
    },
    {
      "cell_type": "code",
      "source": [
        "temperatura = leitura()\n",
        "F = conversao(temperatura)\n",
        "resultado(F)\n"
      ],
      "metadata": {
        "colab": {
          "base_uri": "https://localhost:8080/",
          "height": 53
        },
        "id": "GYU_BOHvuwUb",
        "outputId": "a4141d9c-c0e5-46f8-a9e0-3b0a0fcc5dd0"
      },
      "execution_count": 17,
      "outputs": [
        {
          "name": "stdout",
          "output_type": "stream",
          "text": [
            "Digite a temperatura em graus Celsius: 20\n"
          ]
        },
        {
          "output_type": "execute_result",
          "data": {
            "application/vnd.google.colaboratory.intrinsic+json": {
              "type": "string"
            },
            "text/plain": [
              "'A temperatura é de 68.0°F'"
            ]
          },
          "metadata": {},
          "execution_count": 17
        }
      ]
    },
    {
      "cell_type": "markdown",
      "source": [
        "# Atividade 02:\n",
        "Efetuar o cálculo da quantidade de litros de combustível gasto em uma viagem, utilizando um automóvel que faz 12 Km por litro. Para obter o cálculo, o usuário deve fornecer o tempo gasto na viagem e a velocidade média durante ela. Desta forma, será possível obter a distância percorrida com a fórmula DISTANCIA = TEMPO * VELOCIDADE. Tendo o valor da distância, basta calcular a quantidade de litros de combustível utilizada na viagem, com a fórmula: LITROS_USADOS = DISTANCIA / 12. O programa deve apresentar os valores da velocidade média, tempo gasto na viagem, a distância percorrida e a quantidade de litros utilizada na viagem\n",
        "- Função para ler os valores (não recebe parâmetro e retorna os dois valores)\n",
        "- Função para calcular a distância (recebe como parâmetro o tempo e a velocidade e retorna a distância)\n",
        "- Função para calcular a quantidade de litros (recebe como parâmetro a distância e retorna os litros)\n",
        "- Função para apresentar o resultado (recebe como parâmetro os valores e somente imprime o resultado)"
      ],
      "metadata": {
        "id": "S6FQmueOuPdm"
      }
    },
    {
      "cell_type": "code",
      "source": [
        "def leitura():\n",
        "  tempo = float(input('Digite o tempo da viagem: '))\n",
        "  velocidade = float(input('Digite a velocidade média: '))\n",
        "  return tempo, velocidade"
      ],
      "metadata": {
        "id": "IqlgPLTlxFd8"
      },
      "execution_count": 18,
      "outputs": []
    },
    {
      "cell_type": "code",
      "source": [
        "def calculo_distancia(tempo, velocidade):\n",
        "  distancia = tempo * velocidade\n",
        "  return distancia"
      ],
      "metadata": {
        "id": "M-z9anRwxci5"
      },
      "execution_count": 19,
      "outputs": []
    },
    {
      "cell_type": "code",
      "source": [
        "def calculo_litros(distancia):\n",
        "  return distancia / 12"
      ],
      "metadata": {
        "id": "SrrOTf64xm0F"
      },
      "execution_count": 20,
      "outputs": []
    },
    {
      "cell_type": "code",
      "source": [
        "def resultado(t, v, d, litros):\n",
        "  print(f'Tempo: {t} horas')\n",
        "  print(f'Velocidade: {v} Km/h')\n",
        "  print('Distancia:', d)\n",
        "  print(f'O carro utilizou {round(litros,2)} litros durante a viagem')"
      ],
      "metadata": {
        "id": "0lY6aX5xxuU4"
      },
      "execution_count": 30,
      "outputs": []
    },
    {
      "cell_type": "code",
      "source": [
        "t, v = leitura()\n",
        "d = calculo_distancia(t, v)\n",
        "litros = calculo_litros(d)\n",
        "resultado(t, v, d, litros)"
      ],
      "metadata": {
        "colab": {
          "base_uri": "https://localhost:8080/"
        },
        "id": "ixm5jwM5v2Rm",
        "outputId": "ae56fb75-3046-4456-b8a2-51cee70445cf"
      },
      "execution_count": 31,
      "outputs": [
        {
          "output_type": "stream",
          "name": "stdout",
          "text": [
            "Digite o tempo da viagem: 2\n",
            "Digite a velocidade média: 80\n",
            "Tempo: 2.0 horas\n",
            "Velocidade: 80.0 Km/h\n",
            "Distancia: 160.0\n",
            "O carro utilizou 13.33 litros durante a viagem\n"
          ]
        }
      ]
    }
  ]
}