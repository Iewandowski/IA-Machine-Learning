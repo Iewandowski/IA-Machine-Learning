{
  "nbformat": 4,
  "nbformat_minor": 0,
  "metadata": {
    "colab": {
      "name": "operadores-logicos-relacionais.ipynb",
      "provenance": [],
      "toc_visible": true,
      "authorship_tag": "ABX9TyM9FOyYAvAGzfS70Bwz3Pen",
      "include_colab_link": true
    },
    "kernelspec": {
      "name": "python3",
      "display_name": "Python 3"
    },
    "language_info": {
      "name": "python"
    }
  },
  "cells": [
    {
      "cell_type": "markdown",
      "metadata": {
        "id": "view-in-github",
        "colab_type": "text"
      },
      "source": [
        "<a href=\"https://colab.research.google.com/github/Iewandowski/IA-Machine-Learning/blob/main/operadores_logicos_relacionais.ipynb\" target=\"_parent\"><img src=\"https://colab.research.google.com/assets/colab-badge.svg\" alt=\"Open In Colab\"/></a>"
      ]
    },
    {
      "cell_type": "markdown",
      "source": [
        "# Operadores Lógicos"
      ],
      "metadata": {
        "id": "fjHjAo-wfWVY"
      }
    },
    {
      "cell_type": "code",
      "execution_count": 5,
      "metadata": {
        "colab": {
          "base_uri": "https://localhost:8080/"
        },
        "id": "5JBbuA-pfOJT",
        "outputId": "a7bc2446-55f0-468a-bbd9-405fc27898d3"
      },
      "outputs": [
        {
          "output_type": "stream",
          "name": "stdout",
          "text": [
            "'A' e 'B' é iguais a False\n",
            "'A' ou 'B' é iguais a True\n",
            "'¬A' é igual a False\n",
            "'¬B' é igual a True\n"
          ]
        }
      ],
      "source": [
        "a = True\n",
        "b = False\n",
        "\n",
        "c = a and b # a & b\n",
        "print(\"'A' e 'B' é iguais a\", c)\n",
        "\n",
        "d = a or b # a | b\n",
        "print(\"'A' ou 'B' é iguais a\", d)\n",
        "\n",
        "e = not a \n",
        "print(\"'¬A' é igual a\", e)\n",
        "\n",
        "f = not b \n",
        "print(\"'¬B' é igual a\", f)"
      ]
    },
    {
      "cell_type": "markdown",
      "source": [
        "# Operadores Relacionais"
      ],
      "metadata": {
        "id": "Atqb_CLgghwd"
      }
    },
    {
      "cell_type": "code",
      "source": [
        "5 > 3"
      ],
      "metadata": {
        "colab": {
          "base_uri": "https://localhost:8080/"
        },
        "id": "iKaUp7D6gomw",
        "outputId": "9850eafa-78e8-4b5d-83fe-a33253aac516"
      },
      "execution_count": 6,
      "outputs": [
        {
          "output_type": "execute_result",
          "data": {
            "text/plain": [
              "True"
            ]
          },
          "metadata": {},
          "execution_count": 6
        }
      ]
    },
    {
      "cell_type": "code",
      "source": [
        "5 < 3"
      ],
      "metadata": {
        "colab": {
          "base_uri": "https://localhost:8080/"
        },
        "id": "oPawaq86gum4",
        "outputId": "8da7b986-02d2-46e8-b80e-d7cbaa6624a2"
      },
      "execution_count": 8,
      "outputs": [
        {
          "output_type": "execute_result",
          "data": {
            "text/plain": [
              "False"
            ]
          },
          "metadata": {},
          "execution_count": 8
        }
      ]
    },
    {
      "cell_type": "code",
      "source": [
        "5 >= 5"
      ],
      "metadata": {
        "colab": {
          "base_uri": "https://localhost:8080/"
        },
        "id": "8fsDkzH0gv40",
        "outputId": "56128475-2f26-4983-ec14-4eaab25cc39f"
      },
      "execution_count": 10,
      "outputs": [
        {
          "output_type": "execute_result",
          "data": {
            "text/plain": [
              "True"
            ]
          },
          "metadata": {},
          "execution_count": 10
        }
      ]
    },
    {
      "cell_type": "code",
      "source": [
        "5 <= 3"
      ],
      "metadata": {
        "colab": {
          "base_uri": "https://localhost:8080/"
        },
        "id": "44QZMwPOg0gf",
        "outputId": "3eb6718b-0d94-4cd2-9659-ec0299040541"
      },
      "execution_count": 11,
      "outputs": [
        {
          "output_type": "execute_result",
          "data": {
            "text/plain": [
              "False"
            ]
          },
          "metadata": {},
          "execution_count": 11
        }
      ]
    },
    {
      "cell_type": "code",
      "source": [
        "5 == 5"
      ],
      "metadata": {
        "colab": {
          "base_uri": "https://localhost:8080/"
        },
        "id": "sKRG0c_Vg9WG",
        "outputId": "3e94578a-9983-4dea-f77f-8bc3eba87279"
      },
      "execution_count": 12,
      "outputs": [
        {
          "output_type": "execute_result",
          "data": {
            "text/plain": [
              "True"
            ]
          },
          "metadata": {},
          "execution_count": 12
        }
      ]
    },
    {
      "cell_type": "code",
      "source": [
        "5 != 3"
      ],
      "metadata": {
        "id": "hsmcibRKhA6x",
        "outputId": "b050b5da-ad7d-4258-b748-ea472909431b",
        "colab": {
          "base_uri": "https://localhost:8080/"
        }
      },
      "execution_count": 13,
      "outputs": [
        {
          "output_type": "execute_result",
          "data": {
            "text/plain": [
              "True"
            ]
          },
          "metadata": {},
          "execution_count": 13
        }
      ]
    }
  ]
}