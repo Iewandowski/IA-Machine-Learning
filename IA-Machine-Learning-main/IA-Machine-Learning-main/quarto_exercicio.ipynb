{
  "nbformat": 4,
  "nbformat_minor": 0,
  "metadata": {
    "colab": {
      "name": "quarto-exercicio.ipynb",
      "provenance": [],
      "toc_visible": true,
      "authorship_tag": "ABX9TyNfMT92GxkAaAizvKY0cDMY",
      "include_colab_link": true
    },
    "kernelspec": {
      "name": "python3",
      "display_name": "Python 3"
    },
    "language_info": {
      "name": "python"
    }
  },
  "cells": [
    {
      "cell_type": "markdown",
      "metadata": {
        "id": "view-in-github",
        "colab_type": "text"
      },
      "source": [
        "<a href=\"https://colab.research.google.com/github/Iewandowski/IA-Machine-Learning/blob/main/quarto_exercicio.ipynb\" target=\"_parent\"><img src=\"https://colab.research.google.com/assets/colab-badge.svg\" alt=\"Open In Colab\"/></a>"
      ]
    },
    {
      "cell_type": "markdown",
      "source": [
        "# Atividade 01:\n",
        "**Lista**: Crie uma estrutura de repetição para fazer a leitura de 5 números inteiros e os armazene dentro de uma lista. Após a leitura, crie outra estrutura de repetição para somar todos os valores digitados"
      ],
      "metadata": {
        "id": "DA85HWrQj-vK"
      }
    },
    {
      "cell_type": "code",
      "source": [
        "lista = []\n",
        "soma = 0\n",
        "for i in range(0,5):\n",
        "  numero = int(input('Digite um numero: '))\n",
        "  lista.append(numero)\n",
        "for i in range(len(lista)):\n",
        "  soma += lista[i]\n",
        "print('A soma dos números digitados é', soma)"
      ],
      "metadata": {
        "colab": {
          "base_uri": "https://localhost:8080/"
        },
        "id": "mnjqp-pgkfG8",
        "outputId": "c20a7a7d-bff7-465d-a04e-73b765059222"
      },
      "execution_count": 12,
      "outputs": [
        {
          "output_type": "stream",
          "name": "stdout",
          "text": [
            "Digite um numero: 1\n",
            "Digite um numero: 2\n",
            "Digite um numero: 3\n",
            "Digite um numero: 4\n",
            "Digite um numero: 5\n",
            "A soma dos números digitados é 15\n"
          ]
        }
      ]
    },
    {
      "cell_type": "markdown",
      "source": [
        "# Atividade 02:\n",
        "**Dicionário**: Crie um dicionário para armazenar o nome e a nota de 3 alunos, fazendo a leitura dos valores por meio de uma estrutura de repetição. Depois, crie uma nova estrutura de repetição para somar todas as notas e retornar a média"
      ],
      "metadata": {
        "id": "MTWppsTtkSGj"
      }
    },
    {
      "cell_type": "code",
      "execution_count": 17,
      "metadata": {
        "colab": {
          "base_uri": "https://localhost:8080/"
        },
        "id": "jjOndfLxj4fA",
        "outputId": "cdfe8e15-b7b2-4286-a2df-031915daaac8"
      },
      "outputs": [
        {
          "output_type": "stream",
          "name": "stdout",
          "text": [
            "Digite o nome: a\n",
            "Digite a nota: 5\n",
            "Digite o nome: b\n",
            "Digite a nota: 7\n",
            "Digite o nome: c\n",
            "Digite a nota: 1\n",
            "4.33\n"
          ]
        }
      ],
      "source": [
        "dicionario = {}\n",
        "soma = 0\n",
        "for i in range(0,3):\n",
        "  nome = input('Digite o nome: ')\n",
        "  nota = float(input('Digite a nota: '))\n",
        "  dicionario[nome] = nota\n",
        "for nota in dicionario.values():\n",
        "  soma += nota\n",
        "print(round(soma / 3, 2))"
      ]
    },
    {
      "cell_type": "markdown",
      "source": [
        "# Atividade 03:\n",
        "**Matriz**: Dada a matriz abaixo, construa uma estrutura de repetição para percorrer e somar todos os elementos da matriz\n",
        "\n",
        "matriz = np.array([[3, 4, 1],\n",
        "                   [3, 1, 5]])\n"
      ],
      "metadata": {
        "id": "Z2zqAaZrkYk0"
      }
    },
    {
      "cell_type": "code",
      "source": [
        "import numpy as np"
      ],
      "metadata": {
        "id": "AC_9BEZMkfwr"
      },
      "execution_count": 6,
      "outputs": []
    },
    {
      "cell_type": "code",
      "source": [
        "matriz = np.array([[3,4,1], [3,1,5]])\n",
        "soma = 0\n",
        "\n",
        "for i in range(matriz.shape[0]):\n",
        "  for j in range(matriz.shape[1]):\n",
        "    soma += matriz[i][j]\n",
        "print(soma)"
      ],
      "metadata": {
        "colab": {
          "base_uri": "https://localhost:8080/"
        },
        "id": "g5ps5avemdfX",
        "outputId": "c88b7c14-8c75-42f9-b5a6-22ca954c9c3a"
      },
      "execution_count": 9,
      "outputs": [
        {
          "output_type": "stream",
          "name": "stdout",
          "text": [
            "17\n"
          ]
        }
      ]
    }
  ]
}