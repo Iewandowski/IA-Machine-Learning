{
  "nbformat": 4,
  "nbformat_minor": 0,
  "metadata": {
    "colab": {
      "name": "operador-condicional.ipynb",
      "provenance": [],
      "toc_visible": true,
      "authorship_tag": "ABX9TyOUxgNY82G62/FjhMt3+K0/",
      "include_colab_link": true
    },
    "kernelspec": {
      "name": "python3",
      "display_name": "Python 3"
    },
    "language_info": {
      "name": "python"
    }
  },
  "cells": [
    {
      "cell_type": "markdown",
      "metadata": {
        "id": "view-in-github",
        "colab_type": "text"
      },
      "source": [
        "<a href=\"https://colab.research.google.com/github/Iewandowski/IA-Machine-Learning/blob/main/operador_condicional.ipynb\" target=\"_parent\"><img src=\"https://colab.research.google.com/assets/colab-badge.svg\" alt=\"Open In Colab\"/></a>"
      ]
    },
    {
      "cell_type": "markdown",
      "source": [
        "# Operador Condicional"
      ],
      "metadata": {
        "id": "G-1IgLKEhUYJ"
      }
    },
    {
      "cell_type": "code",
      "execution_count": 1,
      "metadata": {
        "colab": {
          "base_uri": "https://localhost:8080/"
        },
        "id": "TuXZlfTGhPRl",
        "outputId": "51711591-61cb-4263-addc-ff80c138edf6"
      },
      "outputs": [
        {
          "output_type": "stream",
          "name": "stdout",
          "text": [
            "5 é maior que 3\n"
          ]
        }
      ],
      "source": [
        "if 5 > 3:\n",
        "  print('5 é maior que 3')"
      ]
    },
    {
      "cell_type": "code",
      "source": [
        "if 5 > 4:\n",
        "  print('5 é maior que 6')\n",
        "else:\n",
        "  print('5 é menor que 6')"
      ],
      "metadata": {
        "colab": {
          "base_uri": "https://localhost:8080/"
        },
        "id": "5cuZAYNShwoI",
        "outputId": "4ca35078-d9ed-4c90-ed05-e746def838af"
      },
      "execution_count": 2,
      "outputs": [
        {
          "output_type": "stream",
          "name": "stdout",
          "text": [
            "5 é maior que 6\n"
          ]
        }
      ]
    },
    {
      "cell_type": "code",
      "source": [
        "n = 3 \n",
        "if(n == 4):\n",
        "   print(\"'n' é igual a 4\")\n",
        "if(n == 3):\n",
        "  print(\"'n' é igual a 3\")\n",
        "else:\n",
        "  print(\"'n' não é igual a 4 nem 3\")"
      ],
      "metadata": {
        "colab": {
          "base_uri": "https://localhost:8080/"
        },
        "id": "5dIQhutXh9Ei",
        "outputId": "75f4d3fd-ec8d-4868-a0a8-31cd1990ed7d"
      },
      "execution_count": 4,
      "outputs": [
        {
          "output_type": "stream",
          "name": "stdout",
          "text": [
            "'n' é igual a 3\n"
          ]
        }
      ]
    },
    {
      "cell_type": "code",
      "source": [
        "x = 2\n",
        "y = 3\n",
        "if(x > 1) and (y % 2 == 0): \n",
        "  print(\"'x' é maior que 1 e y é par\")\n",
        "else:\n",
        "  print(\"Uma ou nenhuma das condições foram satisfeitas\")"
      ],
      "metadata": {
        "colab": {
          "base_uri": "https://localhost:8080/"
        },
        "id": "kGF51TjqiiQg",
        "outputId": "03ebe1d9-8abd-4777-c9a5-510c9d9ee436"
      },
      "execution_count": 5,
      "outputs": [
        {
          "output_type": "stream",
          "name": "stdout",
          "text": [
            "'x' é maior que 1 e y é par\n"
          ]
        }
      ]
    }
  ]
}