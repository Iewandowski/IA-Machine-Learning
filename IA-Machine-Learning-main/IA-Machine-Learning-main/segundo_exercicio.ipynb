{
  "nbformat": 4,
  "nbformat_minor": 0,
  "metadata": {
    "colab": {
      "name": "segundo-exercicio.ipynb",
      "provenance": [],
      "toc_visible": true,
      "authorship_tag": "ABX9TyNelRZgEVNSjugXUb0MVOFg",
      "include_colab_link": true
    },
    "kernelspec": {
      "name": "python3",
      "display_name": "Python 3"
    },
    "language_info": {
      "name": "python"
    }
  },
  "cells": [
    {
      "cell_type": "markdown",
      "metadata": {
        "id": "view-in-github",
        "colab_type": "text"
      },
      "source": [
        "<a href=\"https://colab.research.google.com/github/Iewandowski/IA-Machine-Learning/blob/main/segundo_exercicio.ipynb\" target=\"_parent\"><img src=\"https://colab.research.google.com/assets/colab-badge.svg\" alt=\"Open In Colab\"/></a>"
      ]
    },
    {
      "cell_type": "markdown",
      "source": [
        "# Atividade 01:\n",
        "Leia a idade do usuário e classifique-o em:\n",
        "- Criança – 0 a 12 anos\n",
        "- Adolescente – 13 a 17 anos\n",
        "- Adulto – acima de 18 anos\n",
        "-Se o usuário digitar um número negativo, mostrar a mensagem que a idade é inválida *texto em itálico*\n"
      ],
      "metadata": {
        "id": "DfQ6c-zajYpg"
      }
    },
    {
      "cell_type": "code",
      "execution_count": 23,
      "metadata": {
        "colab": {
          "base_uri": "https://localhost:8080/"
        },
        "id": "8ZkGAAQAjJnE",
        "outputId": "c1d1d990-da26-4b34-a482-a25ad3ae95d4"
      },
      "outputs": [
        {
          "output_type": "stream",
          "name": "stdout",
          "text": [
            "Digite a idade -1\n",
            "Idade inválida\n"
          ]
        }
      ],
      "source": [
        "idade = int(input('Digite a idade '))\n",
        "\n",
        "if idade >= 0 and idade <= 12:\n",
        "  print('Criança')\n",
        "elif idade >= 13 and idade <= 17:\n",
        "  print('Adolescente')\n",
        "elif idade >= 18:\n",
        "  print('Adulto')\n",
        "else:\n",
        "  print('Idade inválida')"
      ]
    },
    {
      "cell_type": "markdown",
      "source": [
        "# Atividade 02:\n",
        "Calcular a média de um aluno que cursou a disciplina de Programação I, a partir da leitura das notas M1, M2 e M3; passando por um cálculo da média aritmética. Após a média calculada, devemos anunciar se o aluno foi aprovado, reprovado ou pegou exame\n",
        "- Se a média estiver entre 0.0 e 4.0, o aluno está reprovado\n",
        "- Se a média estiver entre 4.1 e 6.0, o aluno pegou exame\n",
        "- Se a média for maior do que 6.0, o aluno está aprovado\n",
        "- Se o aluno pegou exame, deve ser lida a nota do exame. Se a nota do exame for maior do que 6.0, está aprovado, senão; está reprovado *texto em itálico*"
      ],
      "metadata": {
        "id": "oPEA_kYgkYFI"
      }
    },
    {
      "cell_type": "code",
      "source": [
        "m1 = float(input('Digite a primeira nota '))\n",
        "m2 = float(input('Digite a segunda nota '))\n",
        "m3 = float(input('Digite a terceira nota '))\n",
        "m4 = float(input('Digite a quarta nota '))\n",
        "\n",
        "media = (m1 + m2 + m3 + m4) / 4\n",
        "situacao = 0\n",
        "\n",
        "\n",
        "if media <= 4.0:\n",
        "  situacao = 'Reprovado'\n",
        "elif media < 6.0:\n",
        "  exame = float(input('Digite a nota do exame '))\n",
        "  if exame >= 6.0:\n",
        "    media = exame\n",
        "    situacao = 'Aprovado'\n",
        "  else:\n",
        "    situacao = 'Reprovado'\n",
        "elif media >= 6.0:\n",
        "  situacao = 'Aprovado'\n",
        "\n",
        "print('Media:', media, \"\\nSituacao:\", situacao)"
      ],
      "metadata": {
        "colab": {
          "base_uri": "https://localhost:8080/"
        },
        "id": "IOdtdzWlkhRk",
        "outputId": "f9f68564-638d-4909-80db-fa21ba52bec6"
      },
      "execution_count": 24,
      "outputs": [
        {
          "output_type": "stream",
          "name": "stdout",
          "text": [
            "Digite a primeira nota 7\n",
            "Digite a segunda nota 10\n",
            "Digite a terceira nota 5\n",
            "Digite a quarta nota 8\n",
            "Media: 7.5 \n",
            "Situacao: Aprovado\n"
          ]
        }
      ]
    }
  ]
}