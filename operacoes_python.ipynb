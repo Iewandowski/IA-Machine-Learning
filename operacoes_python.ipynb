{
  "nbformat": 4,
  "nbformat_minor": 0,
  "metadata": {
    "colab": {
      "name": "operacoes-python.ipynb",
      "provenance": [],
      "toc_visible": true,
      "authorship_tag": "ABX9TyMBMlxdeTd7brOBQvt6ovs7",
      "include_colab_link": true
    },
    "kernelspec": {
      "name": "python3",
      "display_name": "Python 3"
    },
    "language_info": {
      "name": "python"
    }
  },
  "cells": [
    {
      "cell_type": "markdown",
      "metadata": {
        "id": "view-in-github",
        "colab_type": "text"
      },
      "source": [
        "<a href=\"https://colab.research.google.com/github/Iewandowski/IA-Machine-Learning/blob/main/operacoes_python.ipynb\" target=\"_parent\"><img src=\"https://colab.research.google.com/assets/colab-badge.svg\" alt=\"Open In Colab\"/></a>"
      ]
    },
    {
      "cell_type": "markdown",
      "source": [
        "# Operações Matemáticas"
      ],
      "metadata": {
        "id": "gFpSX-gbbHyz"
      }
    },
    {
      "cell_type": "code",
      "execution_count": 8,
      "metadata": {
        "colab": {
          "base_uri": "https://localhost:8080/"
        },
        "id": "JzsI-7nVRqZM",
        "outputId": "43eaf920-6e1e-48de-8db9-a03f430053ff"
      },
      "outputs": [
        {
          "output_type": "stream",
          "name": "stdout",
          "text": [
            "A soma é 8\n",
            "A subtração é 2\n",
            "A divisao é 1.6666666666666667\n",
            "A multiplicacao é 15\n",
            "O resto da divisão é 2\n",
            "5 elevado a 3 é 125\n"
          ]
        }
      ],
      "source": [
        "a = 5\n",
        "b = 3\n",
        "print('A soma é', a + b)\n",
        "print('A subtração é', a - b)\n",
        "print('A divisao é', a / b)\n",
        "print('A multiplicacao é', a * b)\n",
        "print('O resto da divisão é', a % b)\n",
        "print('5 elevado a 3 é', 5**3)"
      ]
    },
    {
      "cell_type": "code",
      "source": [
        "import math\n",
        "math.sqrt(81)"
      ],
      "metadata": {
        "colab": {
          "base_uri": "https://localhost:8080/"
        },
        "id": "1fJzGSLEaN6j",
        "outputId": "4c8231e1-9f51-4439-f05c-3bff907e385d"
      },
      "execution_count": 9,
      "outputs": [
        {
          "output_type": "execute_result",
          "data": {
            "text/plain": [
              "9.0"
            ]
          },
          "metadata": {},
          "execution_count": 9
        }
      ]
    },
    {
      "cell_type": "markdown",
      "source": [
        "# Arredondamento"
      ],
      "metadata": {
        "id": "u9coXmx9afBB"
      }
    },
    {
      "cell_type": "code",
      "source": [
        "casos_doenca = 134\n",
        "numero_habitantes = 34432\n",
        "casos_por_habitante = casos_doenca / numero_habitantes\n",
        "print ('O numero de casos por habitante é', round(casos_por_habitante, 4))"
      ],
      "metadata": {
        "colab": {
          "base_uri": "https://localhost:8080/"
        },
        "id": "GCaGPPOEakAI",
        "outputId": "e5424ea1-d3bb-430b-cc08-d21c34967322"
      },
      "execution_count": 13,
      "outputs": [
        {
          "output_type": "stream",
          "name": "stdout",
          "text": [
            "O numero de casos por habitante é 0.0039\n"
          ]
        }
      ]
    }
  ]
}