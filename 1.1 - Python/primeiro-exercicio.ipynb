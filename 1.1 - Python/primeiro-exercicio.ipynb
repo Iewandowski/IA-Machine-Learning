{
  "nbformat": 4,
  "nbformat_minor": 0,
  "metadata": {
    "colab": {
      "name": "exercicios.ipynb",
      "provenance": [],
      "toc_visible": true,
      "authorship_tag": "ABX9TyOmUu1Fk1yPADl3TwP0MQqR",
      "include_colab_link": true
    },
    "kernelspec": {
      "name": "python3",
      "display_name": "Python 3"
    },
    "language_info": {
      "name": "python"
    }
  },
  "cells": [
    {
      "cell_type": "markdown",
      "metadata": {
        "id": "view-in-github",
        "colab_type": "text"
      },
      "source": [
        "<a href=\"https://colab.research.google.com/github/Iewandowski/IA-Machine-Learning/blob/main/primeiro-exercicio.ipynb\" target=\"_parent\"><img src=\"https://colab.research.google.com/assets/colab-badge.svg\" alt=\"Open In Colab\"/></a>"
      ]
    },
    {
      "cell_type": "markdown",
      "source": [
        "# Atividade 01\n",
        "*Ler dois números inteiros, executar e mostrar o resultado das seguintes operações: adição, subtração, multiplicação e divisão*"
      ],
      "metadata": {
        "id": "YZyJQRlhb7a3"
      }
    },
    {
      "cell_type": "code",
      "execution_count": 8,
      "metadata": {
        "colab": {
          "base_uri": "https://localhost:8080/"
        },
        "id": "n96iBUzkbqvm",
        "outputId": "55c40151-804f-4f39-a67e-0859770e9b17"
      },
      "outputs": [
        {
          "output_type": "stream",
          "name": "stdout",
          "text": [
            "Digite o primeiro valor: 5\n",
            "Digite o segundo valor: 6\n",
            "A soma é 11\n",
            "A subtração é -1\n",
            "A multiplicação é 30\n",
            "A divisao é 0.83\n"
          ]
        }
      ],
      "source": [
        "n1 = int(input('Digite o primeiro valor: '))\n",
        "n2 = int(input('Digite o segundo valor: '))\n",
        "\n",
        "print('A soma é', n1 + n2)\n",
        "print('A subtração é', n1 - n2)\n",
        "print('A multiplicação é', n1 * n2)\n",
        "print('A divisao é', round(n1 / n2,2))"
      ]
    },
    {
      "cell_type": "markdown",
      "source": [
        "# Atividade 02\n",
        "*Efetuar o cálculo da quantidade de litros de combustível gasto em uma viagem, utilizando um automóvel que faz 12 Km por litro. Para obter o cálculo, o usuário deve fornecer o tempo gasto na viagem e a velocidade média durante ela. Desta forma, será possível obter a distância percorrida com a fórmula DISTANCIA = TEMPO * VELOCIDADE. Tendo o valor da distância, basta calcular a quantidade de litros de combustível utilizada na viagem, com a fórmula: LITROS_USADOS = DISTANCIA / 12. O programa deve apresentar os valores da velocidade média, tempo gasto na viagem, a distância percorrida e a quantidade de litros utilizada na viagem *texto em itálico* *texto em itálico*"
      ],
      "metadata": {
        "id": "RgqT5_tNc8n4"
      }
    },
    {
      "cell_type": "code",
      "source": [
        "tempo = float(input('Informe o tempo gasto na viagem (horas): '))\n",
        "velocidade = float(input('Informe a velocidade média percorrida durante a viagem (km/h): '))\n",
        "distancia = tempo * velocidade\n",
        "litros_usados = distancia / 12\n",
        "print(litros_usados)"
      ],
      "metadata": {
        "colab": {
          "base_uri": "https://localhost:8080/"
        },
        "id": "nsYSCgcGdHpq",
        "outputId": "0141f2fe-efce-4604-cbc8-77f75e5b7b61"
      },
      "execution_count": 7,
      "outputs": [
        {
          "output_type": "stream",
          "name": "stdout",
          "text": [
            "Informe o tempo gasto na viagem 6\n",
            "Informe a velocidade média percorrida durante a viagem 80\n",
            "40.0\n"
          ]
        }
      ]
    }
  ]
}