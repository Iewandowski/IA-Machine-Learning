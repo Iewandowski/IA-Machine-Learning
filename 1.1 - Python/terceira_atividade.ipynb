{
  "nbformat": 4,
  "nbformat_minor": 0,
  "metadata": {
    "colab": {
      "name": "terceira-atividade.ipynb",
      "provenance": [],
      "toc_visible": true,
      "authorship_tag": "ABX9TyPjd7L5yeqHr5OkMqV4WAqI",
      "include_colab_link": true
    },
    "kernelspec": {
      "name": "python3",
      "display_name": "Python 3"
    },
    "language_info": {
      "name": "python"
    }
  },
  "cells": [
    {
      "cell_type": "markdown",
      "metadata": {
        "id": "view-in-github",
        "colab_type": "text"
      },
      "source": [
        "<a href=\"https://colab.research.google.com/github/Iewandowski/IA-Machine-Learning/blob/main/terceira_atividade.ipynb\" target=\"_parent\"><img src=\"https://colab.research.google.com/assets/colab-badge.svg\" alt=\"Open In Colab\"/></a>"
      ]
    },
    {
      "cell_type": "markdown",
      "source": [
        "# Atividade 01:\n",
        "*Ler 5 notas e informar a média*"
      ],
      "metadata": {
        "id": "TcvpNFoHYA60"
      }
    },
    {
      "cell_type": "code",
      "execution_count": 1,
      "metadata": {
        "colab": {
          "base_uri": "https://localhost:8080/"
        },
        "id": "FXjgkRSJX--I",
        "outputId": "1f4fe29f-ffd7-41a2-c493-47b32f2eb4e6"
      },
      "outputs": [
        {
          "output_type": "stream",
          "name": "stdout",
          "text": [
            "Digite a nota: 6\n",
            "Digite a nota: 5\n",
            "Digite a nota: 10\n",
            "Digite a nota: 9\n",
            "Digite a nota: 8\n",
            "Media: 7.6\n"
          ]
        }
      ],
      "source": [
        "media = 0\n",
        "for i in range(1,6):\n",
        "   nota = int(input('Digite a nota: '))\n",
        "   media += nota\n",
        "media = media / 5\n",
        "print('Media:', media) "
      ]
    },
    {
      "cell_type": "code",
      "source": [
        "media = 0\n",
        "i = 0\n",
        "while i < 5:\n",
        "  nota = int(input('Digite a nota: '))\n",
        "  media += nota\n",
        "  i += 1\n",
        "media = media / 5\n",
        "print('Media:', media) "
      ],
      "metadata": {
        "colab": {
          "base_uri": "https://localhost:8080/"
        },
        "id": "sDeQHNMkZLPL",
        "outputId": "6a73a737-5f80-46ca-a942-bb09a8764772"
      },
      "execution_count": 2,
      "outputs": [
        {
          "output_type": "stream",
          "name": "stdout",
          "text": [
            "Digite a nota: 9\n",
            "Digite a nota: 9\n",
            "Digite a nota: 9\n",
            "Digite a nota: 9\n",
            "Digite a nota: 9\n",
            "Media: 9.0\n"
          ]
        }
      ]
    },
    {
      "cell_type": "markdown",
      "source": [
        "# Atividade 02:\n",
        "*Imprimir a tabuada do número 3 (3 x 1 = 1 - 3 x 10 = 30)*"
      ],
      "metadata": {
        "id": "516wKMyEZ1MS"
      }
    },
    {
      "cell_type": "code",
      "source": [
        "for i in range(0,11):\n",
        "  tabuada = 3 * i\n",
        "  print((f'3 vezes {i} é igual a {tabuada}'))"
      ],
      "metadata": {
        "colab": {
          "base_uri": "https://localhost:8080/"
        },
        "id": "9MWzjezHZ86a",
        "outputId": "9bd26e11-ac40-4bdb-b387-bc02f518ed72"
      },
      "execution_count": 9,
      "outputs": [
        {
          "output_type": "stream",
          "name": "stdout",
          "text": [
            "3 vezes 0 é igual a 0\n",
            "3 vezes 1 é igual a 3\n",
            "3 vezes 2 é igual a 6\n",
            "3 vezes 3 é igual a 9\n",
            "3 vezes 4 é igual a 12\n",
            "3 vezes 5 é igual a 15\n",
            "3 vezes 6 é igual a 18\n",
            "3 vezes 7 é igual a 21\n",
            "3 vezes 8 é igual a 24\n",
            "3 vezes 9 é igual a 27\n",
            "3 vezes 10 é igual a 30\n"
          ]
        }
      ]
    },
    {
      "cell_type": "code",
      "source": [
        "i = 0\n",
        "while i < 11:\n",
        "  tabuada = 3 * i\n",
        "  print((f'3 vezes {i} é igual a {tabuada}'))\n",
        "  i += 1"
      ],
      "metadata": {
        "colab": {
          "base_uri": "https://localhost:8080/"
        },
        "id": "kU4yKQH1a52J",
        "outputId": "be973593-cf58-4fa8-c81e-0e98695014ac"
      },
      "execution_count": 10,
      "outputs": [
        {
          "output_type": "stream",
          "name": "stdout",
          "text": [
            "3 vezes 0 é igual a 0\n",
            "3 vezes 1 é igual a 3\n",
            "3 vezes 2 é igual a 6\n",
            "3 vezes 3 é igual a 9\n",
            "3 vezes 4 é igual a 12\n",
            "3 vezes 5 é igual a 15\n",
            "3 vezes 6 é igual a 18\n",
            "3 vezes 7 é igual a 21\n",
            "3 vezes 8 é igual a 24\n",
            "3 vezes 9 é igual a 27\n",
            "3 vezes 10 é igual a 30\n"
          ]
        }
      ]
    }
  ]
}